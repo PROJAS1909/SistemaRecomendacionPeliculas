{
 "cells": [
  {
   "attachments": {},
   "cell_type": "markdown",
   "metadata": {},
   "source": [
    "Inicio según la recomendación dada por * Henry * en el cual indican empezar con el ETL"
   ]
  },
  {
   "cell_type": "code",
   "execution_count": 112,
   "metadata": {},
   "outputs": [],
   "source": [
    "#Importo las librerías que requiero\n",
    "import pandas as pd\n",
    "import ast"
   ]
  },
  {
   "cell_type": "code",
   "execution_count": 113,
   "metadata": {},
   "outputs": [
    {
     "name": "stderr",
     "output_type": "stream",
     "text": [
      "C:\\Users\\Patricia\\AppData\\Local\\Temp\\ipykernel_20488\\648635763.py:3: DtypeWarning: Columns (10) have mixed types. Specify dtype option on import or set low_memory=False.\n",
      "  df_movie_csv = pd.read_csv('movies_dataset.csv')\n"
     ]
    }
   ],
   "source": [
    "#Extraigo los archivos requeridos para el análisis de datos\n",
    "df = pd.read_csv('credits.csv')\n",
    "df_movie_csv = pd.read_csv('movies_dataset.csv')\n",
    "df_movie1 = pd.read_excel('movies_dataset1.xlsx')\n",
    "df_movie_excel = pd.read_excel('movies_dataset.xlsx')"
   ]
  },
  {
   "cell_type": "code",
   "execution_count": 114,
   "metadata": {},
   "outputs": [
    {
     "name": "stdout",
     "output_type": "stream",
     "text": [
      "False\n"
     ]
    }
   ],
   "source": [
    "#Como existen 3 archviso que se llaman movies_datasets de los cuales 2 de ellos son archvos excel verifico si contienen los mismos datos\n",
    "evaluacion_identidad = df_movie_csv.equals(df_movie1)\n",
    "print(evaluacion_identidad)"
   ]
  },
  {
   "cell_type": "code",
   "execution_count": 115,
   "metadata": {},
   "outputs": [
    {
     "name": "stdout",
     "output_type": "stream",
     "text": [
      "False\n"
     ]
    }
   ],
   "source": [
    "#Otra forma de verificar si los datos son iguales. \n",
    "are_equal = (df_movie_excel == df_movie1).all().all()\n",
    "print(are_equal)  # True\n"
   ]
  },
  {
   "cell_type": "code",
   "execution_count": 116,
   "metadata": {},
   "outputs": [],
   "source": [
    "#De acuerdo con la metodología planteada por el empleador (cliente-Henry), se eliminan las columnas. \n",
    "#Para no repetir codigo utilizo un ciclo for que itere sobre cada dataframe\n",
    "columnasEliminar = ['video', 'imdb_id', 'adult', 'original_title', 'poster_path', 'homepage'] \n",
    "\n",
    "for df in [df_movie1, df_movie_csv, df_movie_excel]:\n",
    "    df.drop(columns=columnasEliminar, inplace=True)"
   ]
  },
  {
   "cell_type": "code",
   "execution_count": 117,
   "metadata": {},
   "outputs": [],
   "source": [
    "#El empleador solicita que normalicemos los datos aplicando 0 a los valores nulos de las columnas revenue y budget,\n",
    "#para lo cual también utilizo un ciclo for.\n",
    "\n",
    "for df in [df_movie1, df_movie_csv, df_movie_excel]:\n",
    "    df['revenue'].fillna(0, inplace=True)\n",
    "    df['budget'].fillna(0, inplace=True)"
   ]
  },
  {
   "cell_type": "code",
   "execution_count": 118,
   "metadata": {},
   "outputs": [],
   "source": [
    "#Se me solicita que elimine los valores nulos asociados a la columna \"release date\", para ello nuevamento itero con un\n",
    "#ciclo for\n",
    "for df in [df_movie1, df_movie_csv, df_movie_excel]:\n",
    "    df.dropna(subset=['release_date'], inplace=True)\n"
   ]
  },
  {
   "cell_type": "code",
   "execution_count": 119,
   "metadata": {},
   "outputs": [
    {
     "name": "stdout",
     "output_type": "stream",
     "text": [
      "0\n",
      "0\n",
      "0\n"
     ]
    }
   ],
   "source": [
    "#Garantizo que se hayan generado los cambios de eliminación de valores nulos\n",
    "print(df_movie1['release_date'].isnull().sum())\n",
    "print(df_movie_csv['release_date'].isnull().sum())\n",
    "print(df_movie_excel['release_date'].isnull().sum())"
   ]
  },
  {
   "cell_type": "code",
   "execution_count": 120,
   "metadata": {},
   "outputs": [
    {
     "name": "stdout",
     "output_type": "stream",
     "text": [
      "  release_date  release_year\n",
      "0   1995-10-30          1995\n",
      "1   1995-12-15          1995\n",
      "2   1995-12-22          1995\n",
      "  release_date  release_year\n",
      "0   1995-10-30          1995\n",
      "1   1995-12-15          1995\n",
      "2   1995-12-22          1995\n",
      "  release_date  release_year\n",
      "0   1995-10-30          1995\n",
      "1   1995-12-15          1995\n",
      "2   1995-12-22          1995\n"
     ]
    }
   ],
   "source": [
    "#Adicionalmente el cliente solicita que se transformen los datos de \"año de lanzamiento\" en la columna \"release year\"\n",
    "# y coloquemos directamente a formato año y generemos otra columna con el año de lanzamiento.\n",
    "\n",
    "for df in [df_movie1, df_movie_csv, df_movie_excel]:\n",
    "    df['release_date'] = pd.to_datetime(df['release_date'], format='%Y-%m-%d', errors='coerce')\n",
    "    df['release_year'] = df['release_date'].dt.year.astype(float).fillna(0).astype(int)\n",
    "\n",
    "    # Mostrar los resultados\n",
    "    print(df[['release_date', 'release_year']].head(3))\n"
   ]
  },
  {
   "cell_type": "code",
   "execution_count": 121,
   "metadata": {},
   "outputs": [
    {
     "name": "stdout",
     "output_type": "stream",
     "text": [
      "datetime64[ns]\n",
      "datetime64[ns]\n",
      "datetime64[ns]\n",
      "int32\n",
      "int32\n",
      "int32\n"
     ]
    }
   ],
   "source": [
    "#Evalúo el tipo de dato \n",
    "print(df_movie1['release_date'].dtype)\n",
    "print(df_movie_csv['release_date'].dtype)\n",
    "print(df_movie_excel['release_date'].dtype)\n",
    "\n",
    "\n",
    "print(df_movie1['release_year'].dtype)\n",
    "print(df_movie_csv['release_year'].dtype)\n",
    "print(df_movie_excel['release_year'].dtype)"
   ]
  },
  {
   "cell_type": "code",
   "execution_count": 122,
   "metadata": {},
   "outputs": [],
   "source": [
    "#Se nos solicita que hagamos una columna con el retorno de ganancia \"return\" para ello debemos dividir ganancias \"revenue\"/inversión o presupuesto\n",
    "#que seria la columna #budget#\n",
    "for df in [df_movie1, df_movie_csv, df_movie_excel]:\n",
    "    df['return'] = 0  # Inicializamos la columna return con ceros\n",
    "    df['budget'] = pd.to_numeric(df['budget'], errors='coerce')\n",
    "    df['revenue'] = pd.to_numeric(df['revenue'], errors='coerce')\n",
    "    for index, row in df.iterrows():\n",
    "        if row['budget'] != 0 and row['revenue'] != 0:\n",
    "            df.loc[index, 'return'] = row['revenue'] / row['budget']"
   ]
  },
  {
   "cell_type": "code",
   "execution_count": 123,
   "metadata": {},
   "outputs": [
    {
     "name": "stdout",
     "output_type": "stream",
     "text": [
      "       belongs_to_collection   \n",
      "0       Toy Story Collection  \\\n",
      "1                              \n",
      "2  Grumpy Old Men Collection   \n",
      "\n",
      "                                production_companies  \n",
      "0                            Pixar Animation Studios  \n",
      "1  TriStar Pictures, Teitler Film, Interscope Com...  \n",
      "2                       Warner Bros., Lancaster Gate  \n"
     ]
    }
   ],
   "source": [
    "#Se itera sobre cada uno de los DF para intentar desanidar, no se pudo hacer con bucle for porque generaba un error\n",
    "#aparentemente el problema está en el documento csv\n",
    "\n",
    "# Desanidar la columna 'belongs_to_collection'\n",
    "df_movie1['belongs_to_collection'] = df_movie1['belongs_to_collection'].apply(lambda x: ast.literal_eval(x)['name'] if (pd.notna(x) and isinstance(x, str)) else '')\n",
    "\n",
    "# Desanidar la columna 'production_companies'\n",
    "df_movie1['production_companies'] = df_movie1['production_companies'].apply(lambda x: ', '.join([company['name'] for company in ast.literal_eval(x)]) if (pd.notna(x) and isinstance(x, str)) else '')\n",
    "\n",
    "# Mostrar los resultados\n",
    "print(df_movie1[['belongs_to_collection', 'production_companies']].head(3))\n",
    "\n"
   ]
  },
  {
   "cell_type": "code",
   "execution_count": 151,
   "metadata": {},
   "outputs": [
    {
     "name": "stdout",
     "output_type": "stream",
     "text": [
      "       belongs_to_collection   \n",
      "0       Toy Story Collection  \\\n",
      "1                              \n",
      "2  Grumpy Old Men Collection   \n",
      "\n",
      "                                production_companies  \n",
      "0                            Pixar Animation Studios  \n",
      "1  TriStar Pictures, Teitler Film, Interscope Com...  \n",
      "2                       Warner Bros., Lancaster Gate  \n"
     ]
    }
   ],
   "source": [
    "# Desanidar la columna 'belongs_to_collection'\n",
    "df_movie_excel['belongs_to_collection'] = df_movie_excel['belongs_to_collection'].apply(lambda x: ast.literal_eval(x)['name'] if (pd.notna(x) and isinstance(x, str)) else '')\n",
    "\n",
    "# Desanidar la columna 'production_companies'\n",
    "df_movie_excel['production_companies'] = df_movie_excel['production_companies'].apply(lambda x: ', '.join([company['name'] for company in ast.literal_eval(x)]) if (pd.notna(x) and isinstance(x, str)) else '')\n",
    "\n",
    "# Mostrar los resultados\n",
    "print(df_movie_excel[['belongs_to_collection', 'production_companies']].head(3))"
   ]
  },
  {
   "cell_type": "code",
   "execution_count": 149,
   "metadata": {},
   "outputs": [],
   "source": [
    "#Se evalúa el documento csv aparentemente existen datos vacíos que impiden leerse bien\n",
    "def parse_json(value):\n",
    "    try:\n",
    "        if pd.notna(value) and isinstance(value, str) and value != '' and value != '[]':\n",
    "            json_data = json.loads(value)\n",
    "            if isinstance(json_data, dict) and 'name' in json_data:\n",
    "                return json_data['name']\n",
    "            elif isinstance(json_data, list):\n",
    "                return ', '.join([company['name'] for company in json_data])\n",
    "        return ''  # Agregar esta línea para manejar valores vacíos\n",
    "    except Exception:\n",
    "        return ''\n"
   ]
  },
  {
   "cell_type": "code",
   "execution_count": 150,
   "metadata": {},
   "outputs": [
    {
     "name": "stdout",
     "output_type": "stream",
     "text": [
      "  belongs_to_collection production_companies\n",
      "0                                           \n",
      "1                                           \n",
      "2                                           \n"
     ]
    }
   ],
   "source": [
    "print(df_movie_csv[['belongs_to_collection', 'production_companies']].head(3))\n"
   ]
  },
  {
   "attachments": {},
   "cell_type": "markdown",
   "metadata": {},
   "source": [
    "Genero las funciones para hacer la API"
   ]
  },
  {
   "cell_type": "code",
   "execution_count": 156,
   "metadata": {},
   "outputs": [],
   "source": [
    "#Según lo indicado por el cliente se genera una función que retorne la cantidad de películas estrenadas segun idioma y año\n",
    "from fastapi import FastAPI\n",
    "\n",
    "app = FastAPI()\n",
    "\n",
    "@app.get(\"/peliculas_idioma\")\n",
    "def peliculas_idioma(idioma: str, año: int):\n",
    "    total = 0\n",
    "    for df in [df_movie1, df_movie_csv, df_movie_excel]:\n",
    "        mask = (df['original_language'] == idioma) & (df['release_year'] == año)\n",
    "        total += len(df[mask])\n",
    "    \n",
    "    return {\"total_peliculas\": total}\n",
    "\n",
    "        \n",
    "        \n",
    "        \n",
    "    "
   ]
  },
  {
   "cell_type": "code",
   "execution_count": 158,
   "metadata": {},
   "outputs": [],
   "source": [
    "#Se genera una función que retorne en base al nombre de la película indique duración y fecha de lanzamiento\n",
    "@app.get(\"/peliculas_duracion\")\n",
    "def peliculas_duracion(pelicula: str):\n",
    "    for df in [df_movie1, df_movie_csv, df_movie_excel]:\n",
    "        mask = df['original_title'] == pelicula\n",
    "        pelicula_df = df[mask]\n",
    "        if not pelicula_df.empty:\n",
    "            duracion = pelicula_df['runtime'].values[0]\n",
    "            año = pelicula_df['release_year'].values[0]\n",
    "            return {\"Duración\": duracion, \"Año\": año}\n",
    "    \n",
    "    return {\"message\": \"Película no encontrada\"}\n"
   ]
  },
  {
   "cell_type": "code",
   "execution_count": 163,
   "metadata": {},
   "outputs": [],
   "source": [
    "#Genero una función que en base a la franquicia perteneciente indique la cantidad de películas, ganancias totales\n",
    "#y promedio\n",
    "\n",
    "@app.get(\"/franquicia\")\n",
    "def franquicia(Franquicia: str):\n",
    "    for df in [df_movie1, df_movie_csv, df_movie_excel]:\n",
    "        mask = df['belongs_to_collection'].str.contains(Franquicia, na=False)\n",
    "        franquicia_df = df[mask]\n",
    "        if not franquicia_df.empty:\n",
    "            cantidad_peliculas = len(franquicia_df)\n",
    "            ganancia_total = franquicia_df['revenue'].sum()\n",
    "            ganancia_promedio = franquicia_df['revenue'].mean()\n",
    "            return {\n",
    "                \"Franquicia\": Franquicia,\n",
    "                \"Cantidad de películas\": cantidad_peliculas,\n",
    "                \"Ganancia total\": ganancia_total,\n",
    "                \"Ganancia promedio\": ganancia_promedio\n",
    "            }\n",
    "    \n",
    "    return {\"message\": \"Franquicia no encontrada\"}\n"
   ]
  },
  {
   "cell_type": "code",
   "execution_count": 162,
   "metadata": {},
   "outputs": [],
   "source": [
    "#Se realiza una función que según país indique la cantidad de peliculas producidas en el mismo.\n",
    "\n",
    "@app.get(\"/peliculas_pais\")\n",
    "def peliculas_pais(Pais: str):\n",
    "    for df in [df_movie1, df_movie_csv, df_movie_excel]:\n",
    "        mask = df['production_countries'].str.contains(Pais, na=False)\n",
    "        peliculas_pais_df = df[mask]\n",
    "        if not peliculas_pais_df.empty:\n",
    "            cantidad_peliculas = len(peliculas_pais_df)\n",
    "            return {\n",
    "                \"País\": Pais,\n",
    "                \"Cantidad de películas\": cantidad_peliculas\n",
    "            }\n",
    "    \n",
    "    return {\"message\": \"País no encontrado\"}"
   ]
  },
  {
   "cell_type": "code",
   "execution_count": 161,
   "metadata": {},
   "outputs": [],
   "source": [
    "#Se ingresa el productor e indica  el revunue total y la cantidad de peliculas que realizo.\n",
    "@app.get(\"/productoras_exitosas\")\n",
    "def productoras_exitosas(Productora: str):\n",
    "    for df in [df_movie1, df_movie_csv, df_movie_excel]:\n",
    "        mask = df['production_companies'].str.contains(Productora, na=False)\n",
    "        productora_df = df[mask]\n",
    "        if not productora_df.empty:\n",
    "            cantidad_peliculas = len(productora_df)\n",
    "            revenue_total = productora_df['revenue'].sum()\n",
    "            return {\n",
    "                \"Productora\": Productora,\n",
    "                \"Revenue total\": revenue_total,\n",
    "                \"Cantidad de películas\": cantidad_peliculas\n",
    "            }\n",
    "    \n",
    "    return {\"message\": \"Productora no encontrada\"}"
   ]
  },
  {
   "cell_type": "code",
   "execution_count": 160,
   "metadata": {},
   "outputs": [],
   "source": [
    "#Se genera una función en el cual se ingresa el nombre de un director que se encuentre dentro de un dataset debiendo \n",
    "# devolver el éxito del mismo medido a través del retorno. \n",
    "# Además, deberá devolver el nombre de cada película con la fecha de lanzamiento, retorno individual, \n",
    "# costo y ganancia de la misma, en formato lista.\n",
    "\n",
    "@app.get(\"/get_director\")\n",
    "def get_director(nombre_director: str):\n",
    "    director_movies = []\n",
    "    for df in [df_movie1, df_movie_csv, df_movie_excel]:\n",
    "        mask = df['director'].str.contains(nombre_director, na=False)\n",
    "        director_df = df[mask]\n",
    "        if not director_df.empty:\n",
    "            movies = director_df[['original_title', 'release_date', 'revenue', 'budget']]\n",
    "            movies = movies.rename(columns={'original_title': 'Título', 'release_date': 'Fecha de lanzamiento', 'revenue': 'Retorno', 'budget': 'Costo'})\n",
    "            movies['Ganancia'] = movies['Retorno'] - movies['Costo']\n",
    "            director_movies.append(movies)\n",
    "    \n",
    "    if director_movies:\n",
    "        return {\n",
    "            \"Director\": nombre_director,\n",
    "            \"Películas\": director_movies\n",
    "        }\n",
    "    \n",
    "    return {\"message\": \"Director no encontrado\"}"
   ]
  },
  {
   "attachments": {},
   "cell_type": "markdown",
   "metadata": {},
   "source": [
    "Git init + Instalaciones\n",
    "Desde la misma terminal de VSCode, realizar los siguientes pasos:\n",
    "\n",
    "git init\n",
    "pip install uvicorn\n",
    "pip install fastapi\n",
    "Cualquier otra librería que se vaya a utilizar también puede ser descargada en este momento, o cuando sea necesario.\n",
    "\n",
    "Pip freeze\n",
    "Una vez que ya están todas las librerías descargadas en nuestro entorno virtual, podemos hacer el freeze de los requirements.\n",
    "Es importante para este tutorial no abusar de demasiadas dependencias, porque en algunos casos, luego las aplicaciones no pueden deployar nuestros modelos.\n",
    "\n",
    "pip freeze > requirements.txt"
   ]
  }
 ],
 "metadata": {
  "kernelspec": {
   "display_name": "Python 3",
   "language": "python",
   "name": "python3"
  },
  "language_info": {
   "codemirror_mode": {
    "name": "ipython",
    "version": 3
   },
   "file_extension": ".py",
   "mimetype": "text/x-python",
   "name": "python",
   "nbconvert_exporter": "python",
   "pygments_lexer": "ipython3",
   "version": "3.10.11"
  },
  "orig_nbformat": 4
 },
 "nbformat": 4,
 "nbformat_minor": 2
}
